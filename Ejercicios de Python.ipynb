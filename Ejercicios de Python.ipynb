{
 "cells": [
  {
   "cell_type": "markdown",
   "metadata": {},
   "source": [
    "# EJERCICIOS BASICOS DE PYTHON"
   ]
  },
  {
   "cell_type": "markdown",
   "metadata": {},
   "source": [
    "##### EJERCICIO 1 : Realiza una variable con tu matricula y realiza una secuencia de imprimir con tu nombre y tu matricula concatenados"
   ]
  },
  {
   "cell_type": "code",
   "execution_count": 28,
   "metadata": {},
   "outputs": [
    {
     "name": "stdout",
     "output_type": "stream",
     "text": [
      "Mi nombre es Evelin Yamile Mendoza Sanchez\n",
      " matrícula 1795417\n"
     ]
    }
   ],
   "source": [
    "print (\"Mi nombre es Evelin Yamile Mendoza Sanchez\")\n",
    "matricula=1795417\n",
    "print(\" matrícula\", matricula)"
   ]
  },
  {
   "cell_type": "markdown",
   "metadata": {},
   "source": [
    "##### EJERCICIO 2: Pidiendo el input del usuario pide dos números y crea una pequeña calculadora con los operadores básicos de suma, resta, multiplicación, división, y exponente."
   ]
  },
  {
   "cell_type": "code",
   "execution_count": 7,
   "metadata": {},
   "outputs": [
    {
     "name": "stdout",
     "output_type": "stream",
     "text": [
      "digita el primer numero: 2\n",
      "digita el segundo numero: 2\n",
      "suma:  4\n",
      "resta:  0\n",
      "división:  1.0\n",
      "exponente:  4\n",
      "multiplicación:  4\n"
     ]
    }
   ],
   "source": [
    "c= int(input(\"digita el primer numero: \"))\n",
    "d=int(input(\"digita el segundo numero: \"))\n",
    "print(\"suma: \", c+d)\n",
    "print(\"resta: \", c-d)\n",
    "print(\"división: \", c/d)\n",
    "print(\"exponente: \", c**d)\n",
    "print (\"multiplicación: \", c*d)"
   ]
  },
  {
   "cell_type": "markdown",
   "metadata": {},
   "source": [
    "##### EJERCICIO 3: Con loop while o for, realiza una lista de 10 numeros multiplos de 3, y después realiza una función de loop que sume todos los números dentro del arreglo."
   ]
  },
  {
   "cell_type": "code",
   "execution_count": 49,
   "metadata": {},
   "outputs": [
    {
     "name": "stdout",
     "output_type": "stream",
     "text": [
      "3\n",
      "6\n",
      "9\n",
      "12\n",
      "15\n",
      "18\n",
      "21\n",
      "24\n",
      "27\n",
      "30\n",
      "la suma de los numero:  165\n"
     ]
    }
   ],
   "source": [
    "suma=0\n",
    "e=0\n",
    "for i in range(1,11):\n",
    "    e=3*i\n",
    "    print(e)\n",
    "    suma=suma+e\n",
    "print(\"la suma de los numero: \",suma)"
   ]
  },
  {
   "cell_type": "markdown",
   "metadata": {},
   "source": [
    "##### EJERCICIO 4: Con una función de if else, revisar si un número es par o es impar."
   ]
  },
  {
   "cell_type": "code",
   "execution_count": 85,
   "metadata": {
    "scrolled": true
   },
   "outputs": [
    {
     "name": "stdout",
     "output_type": "stream",
     "text": [
      "Introduce un numero 2\n",
      "2 es par\n"
     ]
    }
   ],
   "source": [
    "n= int(input(\"Introduce un numero \"))\n",
    "if n%2 == 0:\n",
    "   print(n, \"es par\")\n",
    "else:\n",
    "    print(n,\"es impar\")"
   ]
  },
  {
   "cell_type": "markdown",
   "metadata": {},
   "source": [
    "##### EJERCICIO 5: Utilizando diferentes clases en python, crea una calculadora con los operadores básicos de suma, resta, multiplicación, división, y exponente."
   ]
  },
  {
   "cell_type": "code",
   "execution_count": 96,
   "metadata": {},
   "outputs": [
    {
     "name": "stdout",
     "output_type": "stream",
     "text": [
      " Suma \n",
      " Resta \n",
      " Multiplicación \n",
      " Divisón \n",
      " Exponente \n",
      "Operador a desear : Suma\n",
      "Inserta un numero: 5\n",
      "Inserte un numero: 12\n",
      "\n",
      " El resultado de la operación realizada es:  17.0\n"
     ]
    }
   ],
   "source": [
    "print(\" Suma \\n Resta \\n Multiplicación \\n Divisón \\n Exponente \")\n",
    "op= input(\"Operador a desear : \")\n",
    "x = float(input(\"Inserta un numero: \"))\n",
    "y = float(input(\"Inserte un numero: \"))\n",
    "def Suma(x,y):\n",
    "    return(x+y)\n",
    "def Resta(x,y):\n",
    "    return(x-y)\n",
    "def Multiplicacion(x,y):\n",
    "    return(x*y)\n",
    "def Division(x,y):\n",
    "    return(x/y)\n",
    "def Exponente(x,y):\n",
    "    return(x**y)\n",
    "r=0\n",
    "if op==\"Suma\":\n",
    "    resp=Suma(x,y)\n",
    "elif op==\"Resta\":\n",
    "    resp=Resta(x,y)\n",
    "elif op==\"Multiplicación\":\n",
    "    resp=Multiplicacion(x,y)\n",
    "elif op==\"División\":\n",
    "    if y!=0:\n",
    "        resp=Division(x,y)\n",
    "elif op==\"Exponencial\":\n",
    "    resp=Exponente(x,y)\n",
    "else: \n",
    "    print(\"Ingrese la operación nuevamente\")\n",
    "    \n",
    "\n",
    "print(\"\\n El resultado de la operación realizada es: \", resp)"
   ]
  },
  {
   "cell_type": "markdown",
   "metadata": {},
   "source": [
    "##### EJERCICIO 7: Listas\n",
    "\n"
   ]
  },
  {
   "cell_type": "code",
   "execution_count": 127,
   "metadata": {},
   "outputs": [
    {
     "name": "stdout",
     "output_type": "stream",
     "text": [
      "[197, 226, 6, 358, 217, 239, 198, 263, 244, 60, 99, 252, 190, 170, 49, 240, 277, 195, 246, 360, 320, 383, 148, 246, 204, 1, 302, 180, 285, 432, 336, 180, 295, 426, 32, 386, 181, 355, 249, 188]\n",
      "\n",
      "La lista de los números pares es:  [226, 6, 358, 198, 244, 60, 252, 190, 170, 240, 246, 360, 320, 148, 246, 204, 302, 180, 432, 336, 180, 426, 32, 386, 188]\n",
      "\n",
      "La lista de los números impares es:  [197, 217, 239, 263, 99, 49, 277, 195, 383, 1, 285, 295, 181, 355, 249]\n"
     ]
    }
   ],
   "source": [
    "import random\n",
    "\n",
    "lista = [0]  * 40\n",
    "for i in range(0,40,1):\n",
    "    lista[i] = random.randint(0, 500)\n",
    "\n",
    "print(lista)\n",
    "\n",
    "def Num(lista):\n",
    "    impares=[]\n",
    "    pares=[]\n",
    "    for i in range(len(lista)):\n",
    "        if lista[i]%2==0:\n",
    "            pares.append(lista[i])\n",
    "        else:\n",
    "            impares.append(lista[i])\n",
    "    return pares,impares\n",
    "\n",
    "pares,impares=Num(lista)\n",
    "print(\"\\nLa lista de los números pares es: \",pares)\n",
    "print(\"\\nLa lista de los números impares es: \",impares)"
   ]
  },
  {
   "cell_type": "markdown",
   "metadata": {},
   "source": [
    "##### EJERCICIO 8:Diccionarios"
   ]
  },
  {
   "cell_type": "markdown",
   "metadata": {},
   "source": [
    "##### Crear un diccionario de 6 personas que conozcas con su primer nombre y su edad.¶\n"
   ]
  },
  {
   "cell_type": "code",
   "execution_count": 97,
   "metadata": {},
   "outputs": [
    {
     "data": {
      "text/plain": [
       "{'Evelin': 22,\n",
       " 'Mirely': 19,\n",
       " 'Karla': 23,\n",
       " 'Jesus': 17,\n",
       " 'Ramiro': 20,\n",
       " 'Carolina': 26}"
      ]
     },
     "execution_count": 97,
     "metadata": {},
     "output_type": "execute_result"
    }
   ],
   "source": [
    "dic={'Evelin': 22, 'Mirely': 19, 'Karla': 23, 'Jesus': 17, 'Ramiro': 20, 'Carolina': 26}\n",
    "dic"
   ]
  },
  {
   "cell_type": "markdown",
   "metadata": {},
   "source": [
    "##### Crear una lista con los valores de la edad y reacomodar la lista de menor a mayor valor.\n"
   ]
  },
  {
   "cell_type": "code",
   "execution_count": 100,
   "metadata": {},
   "outputs": [
    {
     "name": "stdout",
     "output_type": "stream",
     "text": [
      "Las edades de menor a mayor es: [17, 19, 20, 22, 23, 26]\n"
     ]
    }
   ],
   "source": [
    "Ordened=sorted(dic.values())\n",
    "print(\"Las edades de menor a mayor es:\",Ordened)\n"
   ]
  },
  {
   "cell_type": "markdown",
   "metadata": {},
   "source": [
    "##### Usando el diccionario y un loop, imprimir solo los nombres."
   ]
  },
  {
   "cell_type": "code",
   "execution_count": 98,
   "metadata": {},
   "outputs": [
    {
     "name": "stdout",
     "output_type": "stream",
     "text": [
      "\n",
      "Nombres:\n",
      "Evelin\n",
      "Mirely\n",
      "Karla\n",
      "Jesus\n",
      "Ramiro\n",
      "Carolina\n"
     ]
    }
   ],
   "source": [
    "\n",
    "print(\"\\nNombres:\")\n",
    "for n in dic:\n",
    "    print (n)"
   ]
  },
  {
   "cell_type": "markdown",
   "metadata": {},
   "source": [
    "##### Añadir dos personas nuevas a tu diccionario, incluyendo edad.\n"
   ]
  },
  {
   "cell_type": "code",
   "execution_count": 103,
   "metadata": {},
   "outputs": [
    {
     "name": "stdout",
     "output_type": "stream",
     "text": [
      "\n",
      " Diccionario Actualizado:\n",
      " {'Evelin': 22, 'Mirely': 19, 'Karla': 23, 'Jesus': 17, 'Ramiro': 20, 'Carolina': 26, 'Marian': '24', 'Manuel': '32'}\n"
     ]
    }
   ],
   "source": [
    "dic['Marian'] = '24'\n",
    "dic['Manuel'] = '32'\n",
    "print(\"\\n Diccionario Actualizado:\\n\",dic)"
   ]
  },
  {
   "cell_type": "markdown",
   "metadata": {},
   "source": [
    "##### EJERCICIO 9: Sets"
   ]
  },
  {
   "cell_type": "markdown",
   "metadata": {},
   "source": [
    "##### Crea un set con 100 números aleatorios enteros del 1 al 25 y comprueba la longitud del set\n"
   ]
  },
  {
   "cell_type": "code",
   "execution_count": 106,
   "metadata": {},
   "outputs": [
    {
     "name": "stdout",
     "output_type": "stream",
     "text": [
      "Set aleatorio \n",
      " {0, 1, 2, 3, 4, 5, 6, 7, 8, 9, 10, 11, 12, 13, 14, 15, 16, 17, 18, 19, 20, 21, 22, 24, 25}\n",
      "\n",
      " Longitud del set:\n",
      " 25\n"
     ]
    }
   ],
   "source": [
    "\n",
    "import random\n",
    "con=0\n",
    "set1=set()\n",
    "while con < 100:\n",
    "    set1.add((random.randint(0,25)))\n",
    "    con=con+1\n",
    "print(\"Set aleatorio \\n\",set1)\n",
    "\n",
    "longset = len(set1)\n",
    "print(\"\\n Longitud del set:\\n\",longset)"
   ]
  },
  {
   "cell_type": "markdown",
   "metadata": {},
   "source": [
    "##### Crea una lista de 5 números aleatorios del 1 al 10 y comprueba si cada valor aparece en el set inicial.\n"
   ]
  },
  {
   "cell_type": "code",
   "execution_count": 120,
   "metadata": {},
   "outputs": [
    {
     "name": "stdout",
     "output_type": "stream",
     "text": [
      "2  aparece en el set inicial\n",
      "8  aparece en el set inicial\n",
      "1  aparece en el set inicial\n",
      "3  aparece en el set inicial\n",
      "4  aparece en el set inicial\n"
     ]
    }
   ],
   "source": [
    "import random\n",
    "listaset=list(random.sample(range(1,11), 5))\n",
    "listaset\n",
    "\n",
    "for i in range(len(listaset)):\n",
    "    \n",
    "    if lista[i] in set1:\n",
    "        a=listaset[i]\n",
    "        print(a, \" aparece en el set inicial\")\n",
    "    else:\n",
    "        a=listaset[i]\n",
    "        print(a, \"no aparece en el set inicial\")\n"
   ]
  }
 ],
 "metadata": {
  "kernelspec": {
   "display_name": "Python 3",
   "language": "python",
   "name": "python3"
  },
  "language_info": {
   "codemirror_mode": {
    "name": "ipython",
    "version": 3
   },
   "file_extension": ".py",
   "mimetype": "text/x-python",
   "name": "python",
   "nbconvert_exporter": "python",
   "pygments_lexer": "ipython3",
   "version": "3.8.5"
  }
 },
 "nbformat": 4,
 "nbformat_minor": 4
}
